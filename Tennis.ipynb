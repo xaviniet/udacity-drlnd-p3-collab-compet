{
 "cells": [
  {
   "cell_type": "markdown",
   "metadata": {},
   "source": [
    "# Tennis. Collaboration and Competition\n",
    "---\n",
    "\n",
    "In this notebook, we use and learn how to use the Unity ML-Agents Tennis environment for the third project of the Udacity's [Deep Reinforcement Learning Nanodegree](https://www.udacity.com/course/deep-reinforcement-learning-nanodegree--nd893)."
   ]
  },
  {
   "cell_type": "markdown",
   "metadata": {},
   "source": [
    "### 1. Start the Environment\n",
    "\n",
    "We begin by importing some necessary packages.  If the code cell below returns an error, please revisit the project instructions to double-check that you have installed [Unity ML-Agents](https://github.com/Unity-Technologies/ml-agents/blob/master/docs/Installation.md) and [NumPy](http://www.numpy.org/)."
   ]
  },
  {
   "cell_type": "code",
   "execution_count": 1,
   "metadata": {},
   "outputs": [],
   "source": [
    "from unityagents import UnityEnvironment\n",
    "import numpy as np\n",
    "import matplotlib.pyplot as plt\n",
    "\n",
    "import torch\n",
    "\n",
    "from ddpg_agent import Agent\n",
    "from collections import deque"
   ]
  },
  {
   "cell_type": "markdown",
   "metadata": {},
   "source": [
    "Next, we will start the environment! **Before running the code below**, change the `ENV_FILE` parameter to match the location of the Unity enviroment that you downloaded\n",
    "\n",
    "For instance, if you are using a Mac, then you downloaded `Tennis.app`.  If this file is in the same folder as the notebook, then the line below should appear as follows:\n",
    "```\n",
    "env = UnityEnvironment(file_name=\"Tennis.app\")\n",
    "```"
   ]
  },
  {
   "cell_type": "code",
   "execution_count": 2,
   "metadata": {},
   "outputs": [
    {
     "name": "stderr",
     "output_type": "stream",
     "text": [
      "INFO:unityagents:\n",
      "'Academy' started successfully!\n",
      "Unity Academy name: Academy\n",
      "        Number of Brains: 1\n",
      "        Number of External Brains : 1\n",
      "        Lesson number : 0\n",
      "        Reset Parameters :\n",
      "\t\t\n",
      "Unity brain name: TennisBrain\n",
      "        Number of Visual Observations (per agent): 0\n",
      "        Vector Observation space type: continuous\n",
      "        Vector Observation space size (per agent): 8\n",
      "        Number of stacked Vector Observation: 3\n",
      "        Vector Action space type: continuous\n",
      "        Vector Action space size (per agent): 2\n",
      "        Vector Action descriptions: , \n"
     ]
    }
   ],
   "source": [
    "ENV_FILE = './env/Tennis.app'\n",
    "env = UnityEnvironment(file_name=ENV_FILE)"
   ]
  },
  {
   "cell_type": "markdown",
   "metadata": {},
   "source": [
    "Environments contain brains which are responsible for deciding the actions of their associated agents. Here we check for the first brain available, and set it as the default brain we will be controlling from Python."
   ]
  },
  {
   "cell_type": "code",
   "execution_count": 3,
   "metadata": {},
   "outputs": [],
   "source": [
    "# get the default brain\n",
    "\n",
    "brain_name = env.brain_names[0]\n",
    "brain = env.brains[brain_name]"
   ]
  },
  {
   "cell_type": "markdown",
   "metadata": {},
   "source": [
    "### 2. Examine the State and Action Spaces\n",
    "\n",
    "In the environment, we have two agents controlling rackets to bounce a ball over a net. If an agent hits the ball over the net, it receives a reward of `+0.1`. If an agent lets the ball hit the ground or hits the ball out of bounds, it receives a reward of `-0.1`. \n",
    "We have `2` agents, and the action space is of size `2` (continuous, corresponding to movement toward/away from the net and jumping).\n",
    "The state space has a lenght of `24` variables for position and velocities of the racket and ball. Each agent receives its own local observation so, in every step, we get two observations from the environment. \n",
    "\n",
    "Run the code cell below to print some information about the environment."
   ]
  },
  {
   "cell_type": "code",
   "execution_count": 4,
   "metadata": {},
   "outputs": [
    {
     "name": "stdout",
     "output_type": "stream",
     "text": [
      "Number of agents:  2\n",
      "Size of each action:  2\n",
      "There are 2 agents. Each observes a state with lenght: 24\n",
      "The state for the first agent looks like: [ 0.          0.          0.          0.          0.          0.\n",
      "  0.          0.          0.          0.          0.          0.\n",
      "  0.          0.          0.          0.         -6.65278625 -1.5\n",
      " -0.          0.          6.83172083  6.         -0.          0.        ]\n"
     ]
    }
   ],
   "source": [
    "# Reset the environment\n",
    "env_info = env.reset(train_mode=True)[brain_name]\n",
    "\n",
    "# number of agents\n",
    "num_agents = len(env_info.agents)\n",
    "print('Number of agents: ', num_agents)\n",
    "\n",
    "\n",
    "# size of each action\n",
    "action_size = brain.vector_action_space_size\n",
    "print('Size of each action: ', action_size)\n",
    "\n",
    "# examine the state space\n",
    "states = env_info.vector_observations\n",
    "state_size = states.shape[1]\n",
    "print('There are {} agents. Each observes a state with lenght: {}'.format(states.shape[0], state_size))\n",
    "print('The state for the first agent looks like:', states[0])\n",
    "\n"
   ]
  },
  {
   "cell_type": "markdown",
   "metadata": {},
   "source": [
    "### 3. Train the agent\n",
    "\n",
    "#### Function with the main loop and the training process."
   ]
  },
  {
   "cell_type": "code",
   "execution_count": 2,
   "metadata": {},
   "outputs": [],
   "source": [
    "def ddpg(env, n_episodes=500, max_t=200, train_mode=True):\n",
    "#     env = UnityEnvironment(file_name='./env/Tennis.app')\n",
    "    brain_name = env.brain_names[0]\n",
    "    brain = env.brains[brain_name]\n",
    "    action_size = brain.vector_action_space_size\n",
    "    env_info = env.reset(train_mode=train_mode)[brain_name]\n",
    "\n",
    "    states = env_info.vector_observations\n",
    "\n",
    "    agent = Agent(state_size=states.shape[1], action_size=action_size, random_seed=2)\n",
    "\n",
    " \n",
    "    brain_name = env.brain_names[0]\n",
    "    scores = []\n",
    "    scores_deque = deque(maxlen=100)\n",
    "    scores_mean = []\n",
    "    max_score = -np.Inf\n",
    "    \n",
    "\n",
    "    for i_episode in range(1, n_episodes+1):\n",
    "        env_info = env.reset(train_mode=train_mode)[brain_name]\n",
    "        num_agents = len(env_info.agents)\n",
    "#         agent.reset()\n",
    "        score = np.zeros((2,))\n",
    "        states = env_info.vector_observations\n",
    "        for t in range(max_t):\n",
    "            agent.reset()\n",
    "            actions = agent.act(states)\n",
    "            env_info = env.step(actions)[brain_name]\n",
    "            next_states= env_info.vector_observations\n",
    "            rewards = env_info.rewards\n",
    "            dones = env_info.local_done\n",
    "            agent.step(states, actions, rewards, next_states, dones)\n",
    "            states = next_states\n",
    "            score += env_info.rewards\n",
    "            if np.any(dones):\n",
    "                break\n",
    "        scores_deque.append(np.max(score))\n",
    "        scores_mean.append(np.mean(scores_deque))\n",
    "        scores.append(score)\n",
    "        print('\\rEpisode {}\\tAverage Score: {:.2f}\\tScore: {}'.format(i_episode, np.mean(scores_deque), score), end=\"\")\n",
    "        \n",
    "        # We save the best weights\n",
    "        if np.max(score)> max_score:\n",
    "            torch.save(agent.actor_local.state_dict(), 'checkpoint_actor_best.pth')\n",
    "            torch.save(agent.critic_local.state_dict(), 'checkpoint_critic_best.pth') \n",
    "            print('\\rSaving Weights for max score old: {} -> new: {} '.format(max_score, np.max(score)))\n",
    "            max_score = np.max(score)\n",
    "\n",
    "        # We also save weights evety 100 episodes\n",
    "        if i_episode % 100 == 0:\n",
    "            torch.save(agent.actor_local.state_dict(), 'checkpoint_actor.pth')\n",
    "            torch.save(agent.critic_local.state_dict(), 'checkpoint_critic.pth')\n",
    "            print('\\rEpisode {}\\tAverage Score: {:.2f}\\tScore: {}'.format(i_episode, np.mean(scores_deque), score), end=\"\")\n",
    "            print('\\rEpisode {}\\tAverage Score: {:.2f}'.format(i_episode, np.mean(scores_deque)))   \n",
    "        \n",
    "        # We test if we have solved the environment\n",
    "        if np.mean(scores_deque)>=0.5:\n",
    "            print('\\nEnvironment solved in {:d} episodes!\\tAverage Score: {:.2f}'.format(i_episode, np.mean(scores_deque)))\n",
    "            torch.save(agent.actor_local.state_dict(), 'checkpoint_actor.pth')\n",
    "            torch.save(agent.critic_local.state_dict(), 'checkpoint_critic.pth')\n",
    "            break\n",
    "\n",
    "#     env.close()\n",
    "    return scores, scores_mean\n",
    "\n"
   ]
  },
  {
   "cell_type": "markdown",
   "metadata": {},
   "source": [
    "We call the function to train the agent"
   ]
  },
  {
   "cell_type": "code",
   "execution_count": 3,
   "metadata": {},
   "outputs": [
    {
     "name": "stderr",
     "output_type": "stream",
     "text": [
      "INFO:unityagents:\n",
      "'Academy' started successfully!\n",
      "Unity Academy name: Academy\n",
      "        Number of Brains: 1\n",
      "        Number of External Brains : 1\n",
      "        Lesson number : 0\n",
      "        Reset Parameters :\n",
      "\t\t\n",
      "Unity brain name: TennisBrain\n",
      "        Number of Visual Observations (per agent): 0\n",
      "        Vector Observation space type: continuous\n",
      "        Vector Observation space size (per agent): 8\n",
      "        Number of stacked Vector Observation: 3\n",
      "        Vector Action space type: continuous\n",
      "        Vector Action space size (per agent): 2\n",
      "        Vector Action descriptions: , \n"
     ]
    },
    {
     "name": "stdout",
     "output_type": "stream",
     "text": [
      "Saving Weights for max score old: -inf -> new: 0.0 \n",
      "Saving Weights for max score old: 0.0 -> new: 0.09000000171363354 \n",
      "Saving Weights for max score old: 0.09000000171363354 -> new: 0.10000000149011612 \n",
      "Episode 100\tAverage Score: 0.01\tScore: [ 0.   -0.01]\n",
      "Episode 200\tAverage Score: 0.00\tScore: [-0.01  0.  ]\n",
      "Episode 300\tAverage Score: 0.01\tScore: [-0.01  0.1 ]\n",
      "Episode 400\tAverage Score: 0.04\tScore: [-0.01  0.  ]\n",
      "Episode 500\tAverage Score: 0.01\tScore: [0.   0.09]1]\n",
      "Saving Weights for max score old: 0.10000000149011612 -> new: 0.20000000298023224 \n",
      "Saving Weights for max score old: 0.20000000298023224 -> new: 0.30000000447034836 \n",
      "Episode 600\tAverage Score: 0.06\tScore: [ 0.1  -0.01]\n",
      "Episode 700\tAverage Score: 0.09\tScore: [ 0.1  -0.01]\n",
      "Saving Weights for max score old: 0.30000000447034836 -> new: 0.4000000059604645 \n",
      "Episode 800\tAverage Score: 0.11\tScore: [ 0.1  -0.01].40000001]\n",
      "Saving Weights for max score old: 0.4000000059604645 -> new: 0.5000000074505806 \n",
      "Saving Weights for max score old: 0.5000000074505806 -> new: 0.800000011920929 \n",
      "Saving Weights for max score old: 0.800000011920929 -> new: 1.0000000149011612 \n",
      "Episode 900\tAverage Score: 0.21\tScore: [0.60000001 0.59000001]\n",
      "Saving Weights for max score old: 1.0000000149011612 -> new: 1.1000000163912773 \n",
      "Saving Weights for max score old: 1.1000000163912773 -> new: 1.3000000193715096 \n",
      "Episode 1000\tAverage Score: 0.28\tScore: [-0.01  0.  ]59000001]\n",
      "Saving Weights for max score old: 1.3000000193715096 -> new: 1.4000000208616257 \n",
      "Episode 1063\tAverage Score: 0.51\tScore: [1.30000002 1.30000002]\n",
      "Environment solved in 1063 episodes!\tAverage Score: 0.51\n"
     ]
    }
   ],
   "source": [
    "scores, sc_mean = ddpg(env, n_episodes=3500, max_t=500)"
   ]
  },
  {
   "cell_type": "markdown",
   "metadata": {},
   "source": [
    "#### We plot the scores"
   ]
  },
  {
   "cell_type": "code",
   "execution_count": 4,
   "metadata": {},
   "outputs": [
    {
     "data": {
      "image/png": "[encoded data removed]",
      "text/plain": [
       "<Figure size 864x648 with 1 Axes>"
      ]
     },
     "metadata": {
      "needs_background": "light"
     },
     "output_type": "display_data"
    }
   ],
   "source": [
    "\n",
    "scores = np.max(np.array(scores),axis=1)\n",
    "fig = plt.figure(figsize=(12,9))\n",
    "ax = fig.add_subplot(111)\n",
    "plt.plot(np.arange(1, len(scores)+1), scores)\n",
    "plt.plot(np.arange(1, len(sc_mean)+1), sc_mean)\n",
    "plt.ylabel('Score')\n",
    "plt.xlabel('Episode #')\n",
    "plt.savefig('train_scores.png')\n",
    "plt.show()"
   ]
  },
  {
   "cell_type": "markdown",
   "metadata": {},
   "source": [
    "### 4. Watch them play!\n",
    "\n",
    "In the next code cell, we load some trained weights from file to watch an smart agent play some episodes"
   ]
  },
  {
   "cell_type": "code",
   "execution_count": 16,
   "metadata": {},
   "outputs": [
    {
     "name": "stdout",
     "output_type": "stream",
     "text": [
      "Scores: [-0.01  0.  ]\n",
      "Scores: [ 0.   -0.01]\n",
      "Scores: [ 0.   -0.01]\n",
      "Scores: [-0.01  0.  ]\n",
      "Scores: [-0.01  0.  ]\n",
      "Scores: [ 0.   -0.01]\n",
      "Scores: [ 0.   -0.01]\n",
      "Scores: [-0.01  0.  ]\n",
      "Scores: [ 0.   -0.01]\n",
      "Scores: [ 0.   -0.01]\n"
     ]
    }
   ],
   "source": [
    "for i in range(10):                                    \n",
    "    brain_name = env.brain_names[0]\n",
    "    brain = env.brains[brain_name]\n",
    "    action_size = brain.vector_action_space_size\n",
    "\n",
    "# play game for 5 episodes\n",
    "    env_info = env.reset(train_mode=False)[brain_name]     # reset the environment    \n",
    "    num_agents = len(env_info.agents)\n",
    "    states = env_info.vector_observations                  # get the current state (for each agent)\n",
    "\n",
    "    agent = Agent(state_size=states.shape[1], action_size=action_size, random_seed=2)\n",
    "    agent.actor_local.load_state_dict(torch.load('checkpoint_actor_best.pth'))\n",
    "    agent.critic_local.load_state_dict(torch.load('checkpoint_critic_best.pth'))\n",
    "\n",
    "\n",
    "    \n",
    "    scores = []\n",
    "    score = np.zeros((2,))\n",
    "\n",
    "    while True:\n",
    "#         agent.reset()   \n",
    "        actions = agent.act(states)\n",
    "        env_info = env.step(actions)[brain_name]\n",
    "        states = env_info.vector_observations\n",
    "        score += np.array(env_info.rewards)\n",
    "        dones = env_info.local_done\n",
    "        if np.sum(dones) > 0:\n",
    "            break\n",
    "    print('Scores: {}'.format(score))\n",
    "\n"
   ]
  },
  {
   "cell_type": "code",
   "execution_count": null,
   "metadata": {},
   "outputs": [],
   "source": [
    "env.close()"
   ]
  }
 ],
 "metadata": {
  "kernelspec": {
   "display_name": "drlnd_cc",
   "language": "python",
   "name": "drlnd_cc"
  },
  "language_info": {
   "codemirror_mode": {
    "name": "ipython",
    "version": 3
   },
   "file_extension": ".py",
   "mimetype": "text/x-python",
   "name": "python",
   "nbconvert_exporter": "python",
   "pygments_lexer": "ipython3",
   "version": "3.6.10"
  }
 },
 "nbformat": 4,
 "nbformat_minor": 4
}
